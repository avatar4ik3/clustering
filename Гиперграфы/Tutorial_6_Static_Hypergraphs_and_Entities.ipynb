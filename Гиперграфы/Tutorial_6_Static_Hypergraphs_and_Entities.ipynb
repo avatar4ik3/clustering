{
  "cells": [
    {
      "cell_type": "code",
      "execution_count": null,
      "metadata": {
        "id": "UoYoQNcUNAWN"
      },
      "outputs": [],
      "source": [
        "#!pip install hypernetx"
      ]
    },
    {
      "cell_type": "code",
      "execution_count": null,
      "metadata": {
        "id": "sTgZgryfNAWP"
      },
      "outputs": [],
      "source": [
        "#!pip install networkx"
      ]
    },
    {
      "cell_type": "markdown",
      "metadata": {
        "id": "oOawkhMnNAWQ"
      },
      "source": [
        "<img src='https://github.com/pnnl/HyperNetX/blob/master/tutorials/images/harrypotter_image.png?raw=1' width='200px' style=\"float:left;margin-right:10pt\"></img>\n",
        "# Illustration of Static Hypergraphs using Kaggle's HarryPotter dataset.\n",
        "\n",
        "In this tutorial we introduce `hypernetx.StaticEntity` and `hypernetx.StaticEntitySet` and the new `static=True` attribute in the `hypernetx.Hypergraph` class. \n",
        "\n",
        "Harry Potter Data is available here: https://www.kaggle.com/gulsahdemiryurek/harry-potter-dataset.\n",
        "\n",
        "Python code for parsing the dataset is in `harrypotter.py` in the `hypernetx/utils/toys directory`."
      ]
    },
    {
      "cell_type": "code",
      "execution_count": 3,
      "metadata": {
        "id": "Kmd97YiPNAWR"
      },
      "outputs": [],
      "source": [
        "import hypernetx as hnx\n",
        "import networkx as nx\n",
        "import matplotlib.pyplot as plt\n"
      ]
    },
    {
      "cell_type": "markdown",
      "metadata": {
        "id": "iNFVRx-HNAWR"
      },
      "source": [
        "## The Harry Potter Dataset: \n",
        "To use a csv file for a Static Hypergraph, we need every cell filled with a label. \n",
        "We have edited the Harry Potter dataset so that it has 5 categories and every cell is filled. Where a value is unknown, we marked it as \"Unknown *category_name*\". "
      ]
    },
    {
      "cell_type": "code",
      "execution_count": 4,
      "metadata": {
        "id": "a1OhzXySNAWS"
      },
      "outputs": [],
      "source": [
        "hogwarts = hnx.HarryPotter()"
      ]
    },
    {
      "cell_type": "code",
      "execution_count": 5,
      "metadata": {
        "id": "A0fh2kp6NAWS",
        "scrolled": false
      },
      "outputs": [
        {
          "data": {
            "text/html": [
              "<div>\n",
              "<style scoped>\n",
              "    .dataframe tbody tr th:only-of-type {\n",
              "        vertical-align: middle;\n",
              "    }\n",
              "\n",
              "    .dataframe tbody tr th {\n",
              "        vertical-align: top;\n",
              "    }\n",
              "\n",
              "    .dataframe thead th {\n",
              "        text-align: right;\n",
              "    }\n",
              "</style>\n",
              "<table border=\"1\" class=\"dataframe\">\n",
              "  <thead>\n",
              "    <tr style=\"text-align: right;\">\n",
              "      <th></th>\n",
              "      <th>House</th>\n",
              "      <th>Blood status</th>\n",
              "      <th>Species</th>\n",
              "      <th>Hair colour</th>\n",
              "      <th>Eye colour</th>\n",
              "    </tr>\n",
              "  </thead>\n",
              "  <tbody>\n",
              "    <tr>\n",
              "      <th>0</th>\n",
              "      <td>Gryffindor</td>\n",
              "      <td>Half-blood</td>\n",
              "      <td>Human</td>\n",
              "      <td>Black</td>\n",
              "      <td>Bright green</td>\n",
              "    </tr>\n",
              "    <tr>\n",
              "      <th>1</th>\n",
              "      <td>Gryffindor</td>\n",
              "      <td>Pure-blood</td>\n",
              "      <td>Human</td>\n",
              "      <td>Red</td>\n",
              "      <td>Blue</td>\n",
              "    </tr>\n",
              "    <tr>\n",
              "      <th>2</th>\n",
              "      <td>Gryffindor</td>\n",
              "      <td>Muggle-born</td>\n",
              "      <td>Human</td>\n",
              "      <td>Brown</td>\n",
              "      <td>Brown</td>\n",
              "    </tr>\n",
              "    <tr>\n",
              "      <th>3</th>\n",
              "      <td>Gryffindor</td>\n",
              "      <td>Half-blood</td>\n",
              "      <td>Human</td>\n",
              "      <td>Silver| formerly auburn</td>\n",
              "      <td>Blue</td>\n",
              "    </tr>\n",
              "    <tr>\n",
              "      <th>4</th>\n",
              "      <td>Gryffindor</td>\n",
              "      <td>Part-Human</td>\n",
              "      <td>Half-Human/Half-Giant</td>\n",
              "      <td>Black</td>\n",
              "      <td>Black</td>\n",
              "    </tr>\n",
              "    <tr>\n",
              "      <th>...</th>\n",
              "      <td>...</td>\n",
              "      <td>...</td>\n",
              "      <td>...</td>\n",
              "      <td>...</td>\n",
              "      <td>...</td>\n",
              "    </tr>\n",
              "    <tr>\n",
              "      <th>135</th>\n",
              "      <td>Unknown House</td>\n",
              "      <td>Unknown Blood status</td>\n",
              "      <td>Human</td>\n",
              "      <td>Grey</td>\n",
              "      <td>Unknown Eye colour</td>\n",
              "    </tr>\n",
              "    <tr>\n",
              "      <th>136</th>\n",
              "      <td>Unknown House</td>\n",
              "      <td>Unknown Blood status</td>\n",
              "      <td>Werewolf</td>\n",
              "      <td>Grey</td>\n",
              "      <td>Unknown Eye colour</td>\n",
              "    </tr>\n",
              "    <tr>\n",
              "      <th>137</th>\n",
              "      <td>Unknown House</td>\n",
              "      <td>Pure-blood or half-blood</td>\n",
              "      <td>Human</td>\n",
              "      <td>Blond</td>\n",
              "      <td>Blue</td>\n",
              "    </tr>\n",
              "    <tr>\n",
              "      <th>138</th>\n",
              "      <td>Unknown House</td>\n",
              "      <td>Unknown Blood status</td>\n",
              "      <td>Elf</td>\n",
              "      <td>Unknown Hair colour</td>\n",
              "      <td>Unknown Eye colour</td>\n",
              "    </tr>\n",
              "    <tr>\n",
              "      <th>139</th>\n",
              "      <td>Unknown House</td>\n",
              "      <td>Unknown Blood status</td>\n",
              "      <td>Unknown Species</td>\n",
              "      <td>Unknown Hair colour</td>\n",
              "      <td>Unknown Eye colour</td>\n",
              "    </tr>\n",
              "  </tbody>\n",
              "</table>\n",
              "<p>140 rows × 5 columns</p>\n",
              "</div>"
            ],
            "text/plain": [
              "             House              Blood status                Species  \\\n",
              "0       Gryffindor                Half-blood                  Human   \n",
              "1       Gryffindor                Pure-blood                  Human   \n",
              "2       Gryffindor               Muggle-born                  Human   \n",
              "3       Gryffindor                Half-blood                  Human   \n",
              "4       Gryffindor                Part-Human  Half-Human/Half-Giant   \n",
              "..             ...                       ...                    ...   \n",
              "135  Unknown House      Unknown Blood status                  Human   \n",
              "136  Unknown House      Unknown Blood status               Werewolf   \n",
              "137  Unknown House  Pure-blood or half-blood                  Human   \n",
              "138  Unknown House      Unknown Blood status                    Elf   \n",
              "139  Unknown House      Unknown Blood status        Unknown Species   \n",
              "\n",
              "                 Hair colour          Eye colour  \n",
              "0                      Black        Bright green  \n",
              "1                        Red                Blue  \n",
              "2                      Brown               Brown  \n",
              "3    Silver| formerly auburn                Blue  \n",
              "4                      Black               Black  \n",
              "..                       ...                 ...  \n",
              "135                     Grey  Unknown Eye colour  \n",
              "136                     Grey  Unknown Eye colour  \n",
              "137                    Blond                Blue  \n",
              "138      Unknown Hair colour  Unknown Eye colour  \n",
              "139      Unknown Hair colour  Unknown Eye colour  \n",
              "\n",
              "[140 rows x 5 columns]"
            ]
          },
          "execution_count": 5,
          "metadata": {},
          "output_type": "execute_result"
        }
      ],
      "source": [
        "hogwarts.dataframe"
      ]
    },
    {
      "cell_type": "markdown",
      "metadata": {
        "id": "TCJw9bp2NAWT"
      },
      "source": [
        "### We define a labeling based on the categories and store it in an Ordered Dictionary.\n",
        "The ordering of labels is determined by their order of appearance in the table with the exception of Unknown labels, which are always listed first."
      ]
    },
    {
      "cell_type": "code",
      "execution_count": 6,
      "metadata": {
        "id": "hYmHZkQrNAWT",
        "scrolled": true
      },
      "outputs": [
        {
          "data": {
            "text/plain": [
              "OrderedDict([('House',\n",
              "              array(['Unknown House', 'Gryffindor', 'Ravenclaw', 'Slytherin',\n",
              "                     'Hufflepuff', 'Beauxbatons Academy of Magic',\n",
              "                     'Durmstrang Institute'], dtype='<U28')),\n",
              "             ('Blood status',\n",
              "              array(['Unknown Blood status', 'Half-blood', 'Pure-blood', 'Muggle-born',\n",
              "                     'Part-Human', 'Pure-blood or half-blood', 'Part-Goblin',\n",
              "                     'Muggle-born or half-blood', 'Quarter-Veela', 'Muggle', 'Squib'],\n",
              "                    dtype='<U25')),\n",
              "             ('Species',\n",
              "              array(['Unknown Species', 'Human', 'Half-Human/Half-Giant', 'Werewolf',\n",
              "                     'Human (Werewolf traits)', 'Human(goblin ancestry)', 'Ghost',\n",
              "                     'Centaur', 'Human (Metamorphmagus)', 'Elf'], dtype='<U23')),\n",
              "             ('Hair colour',\n",
              "              array(['Unknown Hair colour', 'Black', 'Red', 'Brown',\n",
              "                     'Silver| formerly auburn', 'Blond', 'Sandy', 'Auburn',\n",
              "                     'Light brown flecked with grey', 'Colourless and balding', 'Dark',\n",
              "                     'Mousy', 'Dirty-blonde', 'White', 'Reddish-blonde', 'Blonde',\n",
              "                     'White-blond', 'Iron grey', 'Bald', 'Grey', 'White (balding)',\n",
              "                     'Straw blond', 'Variable', 'Red brown', 'Brown/greying',\n",
              "                     'Silver| formerly black', 'Tawny', 'Silver', 'Silvery-blonde',\n",
              "                     'Ginger', 'Straw-coloured', 'Red ', 'Reddish-brown', 'Mousy brown',\n",
              "                     'Jet-black', 'White blond'], dtype='<U29')),\n",
              "             ('Eye colour',\n",
              "              array(['Unknown Eye colour', 'Bright green', 'Blue', 'Brown', 'Black',\n",
              "                     'Bright brown', 'Hazel', 'Grey', 'Green', 'Dark', 'Pale silvery',\n",
              "                     'Silvery', 'Gooseberry', 'Scarlet ', 'Pale, freckled',\n",
              "                     'Astonishingly blue', 'Variable', 'One dark, one electric blue',\n",
              "                     'Yellowish', 'Ruddy', 'Grey/Blue', 'Dark blue', 'Bright Blue',\n",
              "                     'Dark Grey', 'Pale', 'Yellow'], dtype='<U27'))])"
            ]
          },
          "execution_count": 6,
          "metadata": {},
          "output_type": "execute_result"
        }
      ],
      "source": [
        "hogwarts.labels"
      ]
    },
    {
      "cell_type": "markdown",
      "metadata": {
        "id": "V14Dd5t3NAWT"
      },
      "source": [
        "### Assign unique ids to the label values \n",
        "We encode the data in each column of the dataframe using a sequence of integers and store the coded data along with a translator function to retrieve the original names as needed. Here we remove duplicate rows but counts could be collected for a weighting scheme. **Watch for a near future release.**"
      ]
    },
    {
      "cell_type": "code",
      "execution_count": 7,
      "metadata": {
        "id": "kACm-lGENAWU"
      },
      "outputs": [
        {
          "data": {
            "text/plain": [
              "array([[ 1,  1,  1,  1,  1],\n",
              "       [ 1,  2,  1,  2,  2],\n",
              "       [ 1,  3,  1,  3,  3],\n",
              "       [ 1,  1,  1,  4,  2],\n",
              "       [ 1,  4,  2,  1,  4],\n",
              "       [ 1,  2,  1,  5,  0],\n",
              "       [ 1,  2,  1,  2,  3],\n",
              "       [ 1,  2,  1,  2,  5],\n",
              "       [ 1,  3,  1,  1,  3],\n",
              "       [ 1,  1,  1,  6,  0],\n",
              "       [ 1,  3,  1,  7,  1],\n",
              "       [ 1,  2,  1,  1,  6],\n",
              "       [ 1,  2,  1,  1,  7],\n",
              "       [ 1,  1,  3,  8,  8],\n",
              "       [ 1,  5,  1,  9,  2],\n",
              "       [ 1,  2,  4,  2,  2],\n",
              "       [ 1,  2,  1,  2,  7],\n",
              "       [ 1,  5,  1,  1,  3],\n",
              "       [ 1,  5,  1,  0,  0],\n",
              "       [ 1,  0,  1,  3,  3],\n",
              "       [ 1,  5,  1,  3,  3],\n",
              "       [ 1,  2,  1,  5,  2],\n",
              "       [ 1,  5,  1, 10,  9],\n",
              "       [ 1,  5,  1,  1,  9],\n",
              "       [ 1,  3,  1, 11,  0],\n",
              "       [ 1,  5,  1,  5,  0],\n",
              "       [ 1,  1,  1,  1,  8],\n",
              "       [ 1,  2,  1,  2,  8],\n",
              "       [ 2,  1,  1,  0,  0],\n",
              "       [ 2,  5,  1,  1,  9],\n",
              "       [ 2,  5,  1, 12, 10],\n",
              "       [ 2,  1,  1,  5,  2],\n",
              "       [ 2,  6,  5, 13,  0],\n",
              "       [ 2,  1,  1,  0, 11],\n",
              "       [ 2,  3,  6,  0,  0],\n",
              "       [ 2,  5,  1, 10,  9],\n",
              "       [ 2,  1,  1,  1,  3],\n",
              "       [ 2,  5,  1, 14,  7],\n",
              "       [ 2,  5,  1,  0,  0],\n",
              "       [ 2,  1,  1, 15,  7],\n",
              "       [ 3,  1,  1,  1,  4],\n",
              "       [ 3,  2,  1, 16,  7],\n",
              "       [ 3,  2,  1,  1,  4],\n",
              "       [ 3,  2,  1,  3,  0],\n",
              "       [ 3,  2,  1,  1,  0],\n",
              "       [ 3,  1,  1, 17,  0],\n",
              "       [ 3,  5,  1, 18, 12],\n",
              "       [ 3,  2,  1, 15,  2],\n",
              "       [ 3,  5,  1,  0,  0],\n",
              "       [ 3,  5,  1,  1,  3],\n",
              "       [ 3,  1,  1, 18, 13],\n",
              "       [ 3,  2,  1, 10,  9],\n",
              "       [ 3,  1,  1,  1,  0],\n",
              "       [ 3,  5,  1,  3,  3],\n",
              "       [ 3,  5,  6,  0,  0],\n",
              "       [ 3,  5,  1,  1,  0],\n",
              "       [ 2,  7,  1, 15,  0],\n",
              "       [ 2,  0,  1, 10,  9],\n",
              "       [ 2,  5,  1,  3,  9],\n",
              "       [ 3,  2,  1, 19,  9],\n",
              "       [ 1,  5,  1,  2,  8],\n",
              "       [ 1,  0,  6, 19,  0],\n",
              "       [ 0,  0,  6, 20,  4],\n",
              "       [ 0,  5,  1, 21, 14],\n",
              "       [ 0,  5,  1, 15,  0],\n",
              "       [ 0,  0,  7, 16, 15],\n",
              "       [ 4,  5,  1,  3,  2],\n",
              "       [ 4,  0,  6,  3,  0],\n",
              "       [ 2,  5,  6,  1,  7],\n",
              "       [ 4,  1,  1, 22, 16],\n",
              "       [ 4,  5,  1,  0,  7],\n",
              "       [ 4,  5,  1, 23,  2],\n",
              "       [ 4,  2,  1, 10,  7],\n",
              "       [ 4,  3,  1,  2,  0],\n",
              "       [ 4,  5,  1, 15,  0],\n",
              "       [ 4,  1,  1, 15,  3],\n",
              "       [ 4,  2,  1,  5,  0],\n",
              "       [ 4,  1,  1,  0,  0],\n",
              "       [ 3,  5,  1, 24,  0],\n",
              "       [ 3,  5,  1, 10,  0],\n",
              "       [ 3,  5,  1, 15,  2],\n",
              "       [ 0,  5,  1, 25,  0],\n",
              "       [ 0,  2,  1, 18,  4],\n",
              "       [ 0,  2,  1, 19, 17],\n",
              "       [ 0,  2,  1, 15,  0],\n",
              "       [ 1,  2,  1, 15,  0],\n",
              "       [ 0,  0,  1, 26, 18],\n",
              "       [ 0,  5,  1, 19,  0],\n",
              "       [ 0,  2,  1, 19,  0],\n",
              "       [ 0,  5,  1,  3, 19],\n",
              "       [ 0,  5,  1,  0,  0],\n",
              "       [ 0,  2,  1, 27, 20],\n",
              "       [ 5,  8,  1, 28, 21],\n",
              "       [ 0,  1,  1, 19, 22],\n",
              "       [ 0,  1,  1, 29,  3],\n",
              "       [ 0,  5,  1, 30,  3],\n",
              "       [ 0,  5,  1,  1,  0],\n",
              "       [ 0,  0,  1,  2,  3],\n",
              "       [ 0,  2,  1,  2,  7],\n",
              "       [ 0,  2,  1, 31, 23],\n",
              "       [ 0,  0,  1,  0,  0],\n",
              "       [ 4,  5,  1, 32,  7],\n",
              "       [ 0,  0,  1,  1,  3],\n",
              "       [ 0,  0,  1,  1,  4],\n",
              "       [ 5,  4,  2,  3,  4],\n",
              "       [ 5,  8,  1, 28,  0],\n",
              "       [ 6,  5,  1, 10,  9],\n",
              "       [ 0,  9,  1, 15,  0],\n",
              "       [ 0,  9,  1,  1,  0],\n",
              "       [ 0,  9,  1,  5,  2],\n",
              "       [ 0,  9,  1, 19,  0],\n",
              "       [ 1,  3,  1, 33,  0],\n",
              "       [ 3,  1,  1, 34,  1],\n",
              "       [ 3,  2,  1, 35,  7],\n",
              "       [ 4,  1,  8, 22, 16],\n",
              "       [ 1,  1,  1,  0,  0],\n",
              "       [ 1,  1,  1,  2,  0],\n",
              "       [ 0, 10,  1, 19, 24],\n",
              "       [ 0,  0,  1, 19, 25],\n",
              "       [ 0,  5,  1, 10,  9],\n",
              "       [ 0,  0,  1,  1,  0],\n",
              "       [ 0,  0,  1, 19,  0],\n",
              "       [ 0,  0,  3, 19,  0],\n",
              "       [ 0,  5,  1,  5,  2],\n",
              "       [ 0,  0,  9,  0,  0],\n",
              "       [ 0,  0,  0,  0,  0]])"
            ]
          },
          "execution_count": 7,
          "metadata": {},
          "output_type": "execute_result"
        }
      ],
      "source": [
        "## List of nonzero indices\n",
        "hogwarts.data"
      ]
    },
    {
      "cell_type": "code",
      "execution_count": 8,
      "metadata": {
        "id": "UNiUNHhnNAWU"
      },
      "outputs": [
        {
          "data": {
            "text/plain": [
              "(126, 5)"
            ]
          },
          "execution_count": 8,
          "metadata": {},
          "output_type": "execute_result"
        }
      ],
      "source": [
        "hogwarts.data.shape"
      ]
    },
    {
      "cell_type": "markdown",
      "metadata": {
        "id": "1i5BMsLqNAWU"
      },
      "source": [
        "## StaticEntity and StaticEntitySet\n",
        "\n",
        "The entire dataset has now been represented using a data array and a dictionary associating columns and integers with labels and values in the original data.\n",
        "\n",
        "The basic object in HyperNetX, which holds the data and label dictionary for a static hypergraph, is a `StaticEntity`. Similar to the `hnx.Entity` class, the data structure rests in the background to hold the data for flexibly switching between different orders of containment.\n",
        "\n",
        "Each column of the data is considered a **level** in the StaticEntity. A level's order corresponds to its column position in the datatable. The column header serves as a key to the label dictionary."
      ]
    },
    {
      "cell_type": "code",
      "execution_count": 9,
      "metadata": {
        "id": "O3XXmYlvNAWV"
      },
      "outputs": [
        {
          "data": {
            "text/plain": [
              "array(['House', 'Blood status', 'Species', 'Hair colour', 'Eye colour'],\n",
              "      dtype='<U12')"
            ]
          },
          "execution_count": 9,
          "metadata": {},
          "output_type": "execute_result"
        }
      ],
      "source": [
        "E = hnx.StaticEntity(data = hogwarts.data, labels = hogwarts.labels)\n",
        "E.keys"
      ]
    },
    {
      "cell_type": "markdown",
      "metadata": {
        "id": "oLiGbSnQNAWV"
      },
      "source": [
        "### A StaticEntitySet is a StaticEntity restricted to two levels. \n",
        "By default, a StaticEntity will grab the 1st two levels of the data and first two keys of the labels, but any pair of levels may be specified. "
      ]
    },
    {
      "cell_type": "code",
      "execution_count": 10,
      "metadata": {
        "id": "T9fXqeBUNAWV"
      },
      "outputs": [
        {
          "data": {
            "text/plain": [
              "{'House': array(['Unknown House', 'Gryffindor', 'Ravenclaw', 'Slytherin',\n",
              "        'Hufflepuff', 'Beauxbatons Academy of Magic',\n",
              "        'Durmstrang Institute'], dtype='<U28'),\n",
              " 'Blood status': array(['Unknown Blood status', 'Half-blood', 'Pure-blood', 'Muggle-born',\n",
              "        'Part-Human', 'Pure-blood or half-blood', 'Part-Goblin',\n",
              "        'Muggle-born or half-blood', 'Quarter-Veela', 'Muggle', 'Squib'],\n",
              "       dtype='<U25')}"
            ]
          },
          "execution_count": 10,
          "metadata": {},
          "output_type": "execute_result"
        }
      ],
      "source": [
        "ES = hnx.StaticEntitySet(E)\n",
        "ES.labels"
      ]
    },
    {
      "cell_type": "markdown",
      "metadata": {
        "id": "qBBLKwYiNAWV"
      },
      "source": [
        "## Static Hypergraph\n",
        "A static hypergraph is one where all nodes and edges are known at the time of construction. This permits an internal ordering and uid structure for easy reference and faster computation of metrics.\n",
        "\n",
        "**Static Hypegraphs can be instantiated with a StaticEntitySet similar to the way a dynamic hypergrapah can be instantiated using an EntitySet.**\n",
        "\n",
        "\n"
      ]
    },
    {
      "cell_type": "code",
      "execution_count": 11,
      "metadata": {
        "id": "h7xINDccNAWW",
        "scrolled": false
      },
      "outputs": [],
      "source": [
        "H = hnx.Hypergraph(ES,static=True,name='Hogwarts')\n"
      ]
    },
    {
      "cell_type": "markdown",
      "metadata": {
        "id": "0_qaz2gmNAWW"
      },
      "source": [
        "**But we can also pass the dataframe and specify which columns we want to use as edges and nodes. The default behavior is to use the first two columns.**\n",
        "$$\\text{df}[\\text{edge_column},\\text{node_column}]$$"
      ]
    },
    {
      "cell_type": "code",
      "execution_count": 12,
      "metadata": {
        "id": "ODHw69yvNAWW"
      },
      "outputs": [
        {
          "data": {
            "text/plain": [
              "(StaticEntitySet(None,['Unknown House', 'Hufflepuff', 'Durmstrang Institute', 'Gryffindor', 'Slytherin', 'Beauxbatons Academy of Magic', 'Ravenclaw'],{}),\n",
              " StaticEntity(None,['Squib', 'Unknown Blood status', 'Pure-blood', 'Part-Human', 'Quarter-Veela', 'Muggle', 'Half-blood', 'Muggle-born', 'Part-Goblin', 'Pure-blood or half-blood', 'Muggle-born or half-blood'],{}))"
            ]
          },
          "execution_count": 12,
          "metadata": {},
          "output_type": "execute_result"
        }
      ],
      "source": [
        "H = hnx.Hypergraph(hogwarts.dataframe)\n",
        "H.edges,H.nodes"
      ]
    },
    {
      "cell_type": "code",
      "execution_count": 22,
      "metadata": {
        "id": "dJvd-_jGNAWW"
      },
      "outputs": [
        {
          "data": {
            "image/png": "[encoded data removed]",
            "text/plain": [
              "<Figure size 800x800 with 1 Axes>"
            ]
          },
          "metadata": {},
          "output_type": "display_data"
        }
      ],
      "source": [
        "plt.title('Hogwarts Hypergraph',fontsize=20)\n",
        "hnx.draw(H)"
      ]
    },
    {
      "cell_type": "markdown",
      "metadata": {
        "id": "4QbJsMBHNAWW"
      },
      "source": [
        "## General construction of a static Hypergraph:\n",
        "Set the parameter `static=True` inside the hypergraph constructor and input a set system just as you did before. If the set system is a pandas dataframe, a StaticEntity or a StaticEntitySet, the parameter is automaticaly set to True."
      ]
    },
    {
      "cell_type": "code",
      "execution_count": 23,
      "metadata": {
        "id": "k9n5W76mNAWX"
      },
      "outputs": [
        {
          "data": {
            "image/png": "[encoded data removed]",
            "text/plain": [
              "<Figure size 800x800 with 1 Axes>"
            ]
          },
          "metadata": {},
          "output_type": "display_data"
        }
      ],
      "source": [
        "## example:\n",
        "simple_data = {'A':{1,2,3},'B':{2,3,4},'C':{3,4,5}}\n",
        "simple_static_hypergraph = SSH = hnx.Hypergraph(simple_data, static=True)\n",
        "hnx.draw(SSH)"
      ]
    },
    {
      "cell_type": "code",
      "execution_count": 24,
      "metadata": {
        "id": "6ysSm4GaNAWX"
      },
      "outputs": [
        {
          "data": {
            "text/plain": [
              "True"
            ]
          },
          "execution_count": 24,
          "metadata": {},
          "output_type": "execute_result"
        }
      ],
      "source": [
        "SSH.isstatic"
      ]
    },
    {
      "cell_type": "markdown",
      "metadata": {
        "id": "t_B5_sokNAWX"
      },
      "source": [
        "#### Static Hypergraphs are immutable. You can't add or remove nodes or edges. Uncomment the last line below and try it:\n"
      ]
    },
    {
      "cell_type": "code",
      "execution_count": 19,
      "metadata": {
        "id": "QTU6VM-xNAWX"
      },
      "outputs": [],
      "source": [
        "## Static Hypergraphs are immutable. You can't add or remove nodes or edges.\n",
        "## Uncomment the last line and try it:\n",
        "new_edge = hnx.Entity('D',[4,5,6])\n",
        "# SSH.add_edge(new_edge)"
      ]
    },
    {
      "cell_type": "code",
      "execution_count": 20,
      "metadata": {
        "id": "9BCAHuwENAWX"
      },
      "outputs": [
        {
          "data": {
            "text/plain": [
              "Hypergraph({'A': Entity(A,[1, 2, 3],{'weight': 1.0}), 'B': Entity(B,[2, 3, 4],{'weight': 1.0}), 'C': Entity(C,[3, 4, 5],{'weight': 1.0}), 'D': Entity(D,[4, 5, 6],{'weight': 1.0})},name=)"
            ]
          },
          "execution_count": 20,
          "metadata": {},
          "output_type": "execute_result"
        }
      ],
      "source": [
        "## But you can remove the static property and create a new hypergraph \n",
        "## This will also remove the benefits of an immutable datastructure and may slow things down.\n",
        "SSH = SSH.remove_static()\n",
        "SSH.add_edge(new_edge)"
      ]
    },
    {
      "cell_type": "code",
      "execution_count": null,
      "metadata": {},
      "outputs": [],
      "source": []
    },
    {
      "cell_type": "markdown",
      "metadata": {
        "id": "FfJdxenLNAWX"
      },
      "source": [
        "## State Dictionary\n",
        "Since a static hypergraph does not lose nodes and edges, metrics computed on the hypergraph will persist. We store them in a state dictionary. \n",
        "\n",
        "Let $H$ be the Hogwarts hypergraph we constructed above."
      ]
    },
    {
      "cell_type": "code",
      "execution_count": 21,
      "metadata": {
        "id": "2XTRd8IhNAWY"
      },
      "outputs": [
        {
          "data": {
            "text/plain": [
              "{'data': (array([0, 0, 0, 0, 0, 0, 1, 1, 1, 1, 2, 2, 2, 1, 1, 3, 3, 4, 4, 4, 4, 4,\n",
              "         3, 5, 3, 5, 6, 3, 3]),\n",
              "  array([ 0,  1,  2,  3,  4,  5,  0,  4,  6,  2,  0,  1,  4,  7,  5,  5,  4,\n",
              "          4,  5,  0,  1,  2,  1,  8,  0,  3,  4,  9, 10]),\n",
              "  array([1, 1, 1, 1, 1, 1, 1, 1, 1, 1, 1, 1, 1, 1, 1, 1, 1, 1, 1, 1, 1, 1,\n",
              "         1, 1, 1, 1, 1, 1, 1])),\n",
              " 'snodelg': {},\n",
              " 'sedgelg': {}}"
            ]
          },
          "execution_count": 21,
          "metadata": {},
          "output_type": "execute_result"
        }
      ],
      "source": [
        "H.state_dict"
      ]
    },
    {
      "cell_type": "markdown",
      "metadata": {
        "id": "RmHKQQyvNAWY"
      },
      "source": [
        "### The output of certain methods are automatically stored in the state dictionary once they are computed."
      ]
    },
    {
      "cell_type": "code",
      "execution_count": null,
      "metadata": {
        "id": "iJMpIj0bNAWY"
      },
      "outputs": [],
      "source": [
        "H.incidence_matrix().todense()\n",
        "H.state_dict"
      ]
    },
    {
      "cell_type": "markdown",
      "metadata": {
        "id": "IlfCP2t9NAWY"
      },
      "source": [
        "### They can be retrieved by their keys. But will automatically be retrieved when the method is called again to avoid duplicating the computation."
      ]
    },
    {
      "cell_type": "code",
      "execution_count": null,
      "metadata": {
        "id": "ny_dI3lONAWY"
      },
      "outputs": [],
      "source": [
        "H.state_dict['incidence_matrix'].todense()"
      ]
    },
    {
      "cell_type": "markdown",
      "metadata": {
        "id": "EBYTivFwNAWY"
      },
      "source": [
        "## Most Hypergraph methods apply to Static Hypergraphs\n",
        "Any method, which does not change the data and labels of the underlying StaticEntitySet, can be used by the static Hypergraph."
      ]
    },
    {
      "cell_type": "code",
      "execution_count": null,
      "metadata": {
        "id": "gjwgRaM3NAWZ"
      },
      "outputs": [],
      "source": [
        "H.dataframe()"
      ]
    },
    {
      "cell_type": "markdown",
      "metadata": {
        "id": "PxfFyTWANAWZ"
      },
      "source": [
        "### Restrict to specific edges and nodes"
      ]
    },
    {
      "cell_type": "code",
      "execution_count": null,
      "metadata": {
        "id": "9hvI67VTNAWZ",
        "scrolled": true
      },
      "outputs": [],
      "source": [
        "HF = H.restrict_to_edges(['Gryffindor','Ravenclaw','Slytherin','Hufflepuff'])\n",
        "HF.dataframe()"
      ]
    },
    {
      "cell_type": "code",
      "execution_count": null,
      "metadata": {
        "id": "yzYenwRANAWZ"
      },
      "outputs": [],
      "source": [
        "fig,ax = plt.subplots(1,2,figsize=(15,6))\n",
        "hnx.draw(H,ax=ax[0]);\n",
        "hnx.draw(H.dual())\n",
        "H.edges"
      ]
    },
    {
      "cell_type": "markdown",
      "metadata": {
        "id": "NVG-hE60NAWZ"
      },
      "source": [
        "## Collapse identical elements\n",
        "This method exists to collapse identical nodes and edges and is implemented for dynamic hypergraphs.\n",
        "We wish to do the same for large unwieldy hypergraphs stored as static."
      ]
    },
    {
      "cell_type": "code",
      "execution_count": null,
      "metadata": {
        "id": "PsW8aee0NAWa"
      },
      "outputs": [],
      "source": [
        "pos = {'Unknown House': [-0.11,  0.4 ],\n",
        " 'Gryffindor': [-0.32,  0.27],\n",
        " 'Ravenclaw': [0.57, 0.27],\n",
        " 'Hufflepuff': [-0.02,  0.16],\n",
        " 'Slytherin': [-0.02, -0.51],\n",
        " 'Durmstrang Institute': [-0.09, -1.  ],\n",
        " 'Unknown Blood status': [0.15, 0.66],\n",
        " 'Half-blood': [0.24, 0.04],\n",
        " 'Pure-blood': [-0.45, -0.08],\n",
        " 'Pure-blood or half-blood': [ 0.05, -0.21]}"
      ]
    },
    {
      "cell_type": "code",
      "execution_count": null,
      "metadata": {
        "id": "ot54YtGHNAWa"
      },
      "outputs": [],
      "source": [
        "nodes = ['Pure-blood or half-blood',  'Unknown Blood status', 'Pure-blood', 'Half-blood',  ]\n",
        "Hn = H.restrict_to_nodes(nodes)\n",
        "hnx.draw(Hn,pos=pos)"
      ]
    },
    {
      "cell_type": "code",
      "execution_count": null,
      "metadata": {
        "id": "TKMzjFbFNAWa"
      },
      "outputs": [],
      "source": [
        "Hc,clses = Hn.collapse_edges(return_equivalence_classes=True)\n",
        "\n",
        "fig,ax = plt.subplots(1,2,figsize=(15,6))\n",
        "hnx.draw(Hn,ax=ax[0],pos=pos);\n",
        "ax[0].set_title('original',fontsize=20,color='r')\n",
        "hnx.draw(Hc,ax=ax[1],pos=pos);\n",
        "ax[1].set_title('collapsed',fontsize=20,color='r');\n",
        "clses"
      ]
    },
    {
      "cell_type": "markdown",
      "metadata": {
        "id": "DsGGZmPVNAWa"
      },
      "source": [
        "### More hypergraph methods"
      ]
    },
    {
      "cell_type": "code",
      "execution_count": null,
      "metadata": {
        "id": "q6y7Pf3hNAWa"
      },
      "outputs": [],
      "source": [
        "## bipartite\n",
        "G = H.bipartite() ## this is a NetworkX graph\n",
        "cmap = ['r' if G.nodes[n]['bipartite']==0 else 'cyan' for n in G.nodes ]\n",
        "top = nx.bipartite.sets(G)[0]\n",
        "pos = nx.bipartite_layout(G, top)\n",
        "nx.draw(H.bipartite(),node_color=cmap,with_labels=True, pos=pos)"
      ]
    },
    {
      "cell_type": "code",
      "execution_count": null,
      "metadata": {
        "id": "IWZ4ffozNAWa"
      },
      "outputs": [],
      "source": [
        "## reporting\n",
        "print(hnx.info(H))"
      ]
    },
    {
      "cell_type": "code",
      "execution_count": null,
      "metadata": {
        "id": "HEDf7gdONAWb"
      },
      "outputs": [],
      "source": [
        "## Once the dist stats are computed, they are stored in the state dict for fast recall and reference\n",
        "hnx.dist_stats(H)"
      ]
    },
    {
      "cell_type": "code",
      "execution_count": null,
      "metadata": {
        "id": "4laDbt0-NAWb"
      },
      "outputs": [],
      "source": [
        "H.state_dict"
      ]
    },
    {
      "cell_type": "code",
      "execution_count": null,
      "metadata": {
        "id": "LVdIDHnMNAWb"
      },
      "outputs": [],
      "source": [
        "## toplexes\n",
        "fig,ax = plt.subplots(1,2,figsize=(15,6))\n",
        "pos = hnx.draw(H,ax=ax[0],return_pos=True)\n",
        "hnx.draw(H.toplexes(),ax=ax[1],pos=pos)"
      ]
    }
  ],
  "metadata": {
    "colab": {
      "provenance": []
    },
    "kernelspec": {
      "display_name": "Python 3 (ipykernel)",
      "language": "python",
      "name": "python3"
    },
    "language_info": {
      "codemirror_mode": {
        "name": "ipython",
        "version": 3
      },
      "file_extension": ".py",
      "mimetype": "text/x-python",
      "name": "python",
      "nbconvert_exporter": "python",
      "pygments_lexer": "ipython3",
      "version": "3.10.10"
    }
  },
  "nbformat": 4,
  "nbformat_minor": 0
}
